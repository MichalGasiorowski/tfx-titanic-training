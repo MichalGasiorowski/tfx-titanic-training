{
 "cells": [
  {
   "cell_type": "code",
   "execution_count": 2,
   "id": "aquatic-walker",
   "metadata": {},
   "outputs": [
    {
     "name": "stdout",
     "output_type": "stream",
     "text": [
      "tensorboard_logdir: /home/michal/artifact-store/tfx-titanic-training/20210529_151535/Trainer/model/9/Format-Serving\n"
     ]
    }
   ],
   "source": [
    "from __future__ import print_function\n",
    "\n",
    "import os\n",
    "import webbrowser\n",
    "import tensorflow as tf\n",
    "\n",
    "#!pip install -q tensorboard\n",
    "tf.get_logger().propagate = False\n",
    "\n",
    "pipeline_name = 'tfx-titanic-training'\n",
    "\n",
    "run_id = '20210529_151535'\n",
    "pipeline_base = '/home/michal/artifact-store/tfx-titanic-training'\n",
    "trainer_model_log_folder = 'Trainer/model/9/Format-Serving'\n",
    "\n",
    "\n",
    "tensorboard_airflow_logdir = os.path.join(os.environ['HOME'], 'airflow/artifact-store/pipelines', \n",
    "                                  pipeline_name, 'Trainer/model')\n",
    "\n",
    "tensorboard_local_logdir = os.path.join(pipeline_base, run_id, trainer_model_log_folder)\n",
    "\n",
    "\n",
    "print('tensorboard_logdir: {}'.format(tensorboard_local_logdir))\n",
    "os.environ['TENSORBOARD_LOGDIR'] = tensorboard_local_logdir\n"
   ]
  },
  {
   "cell_type": "markdown",
   "id": "beginning-competition",
   "metadata": {},
   "source": [
    "### Start TensorBoard\n",
    "\n",
    "Note: This cell continues to run until you interrupt the kernel."
   ]
  },
  {
   "cell_type": "code",
   "execution_count": 3,
   "id": "serious-graphics",
   "metadata": {},
   "outputs": [
    {
     "name": "stdout",
     "output_type": "stream",
     "text": [
      "2021-06-01 00:05:50.749502: W tensorflow/stream_executor/platform/default/dso_loader.cc:60] Could not load dynamic library 'libcudart.so.11.0'; dlerror: libcudart.so.11.0: cannot open shared object file: No such file or directory; LD_LIBRARY_PATH: /usr/lib/cuda/include:/usr/lib/cuda/lib64:\n",
      "2021-06-01 00:05:50.749583: I tensorflow/stream_executor/cuda/cudart_stub.cc:29] Ignore above cudart dlerror if you do not have a GPU set up on your machine.\n",
      "\n",
      "NOTE: Using experimental fast data loading logic. To disable, pass\n",
      "    \"--load_fast=false\" and report issues on GitHub. More details:\n",
      "    https://github.com/tensorflow/tensorboard/issues/4784\n",
      "\n",
      "TensorBoard 2.5.0 at http://michal-ubuntu20-vm:6006/ (Press CTRL+C to quit)\n",
      "^C\n"
     ]
    }
   ],
   "source": [
    "!tensorboard --bind_all --logdir=\"${TENSORBOARD_LOGDIR}\""
   ]
  }
 ],
 "metadata": {
  "kernelspec": {
   "display_name": "Python 3",
   "language": "python",
   "name": "python3"
  },
  "language_info": {
   "codemirror_mode": {
    "name": "ipython",
    "version": 3
   },
   "file_extension": ".py",
   "mimetype": "text/x-python",
   "name": "python",
   "nbconvert_exporter": "python",
   "pygments_lexer": "ipython3",
   "version": "3.8.5"
  }
 },
 "nbformat": 4,
 "nbformat_minor": 5
}
