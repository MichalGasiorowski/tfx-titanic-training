{
 "cells": [
  {
   "cell_type": "code",
   "execution_count": 3,
   "id": "aquatic-walker",
   "metadata": {},
   "outputs": [
    {
     "name": "stdout",
     "output_type": "stream",
     "text": [
      "/usr/lib/python3/dist-packages/secretstorage/dhcrypto.py:15: CryptographyDeprecationWarning: int_from_bytes is deprecated, use int.from_bytes instead\n",
      "  from cryptography.utils import int_from_bytes\n",
      "/usr/lib/python3/dist-packages/secretstorage/util.py:19: CryptographyDeprecationWarning: int_from_bytes is deprecated, use int.from_bytes instead\n",
      "  from cryptography.utils import int_from_bytes\n",
      "\u001b[33mWARNING: You are using pip version 21.0.1; however, version 21.1.1 is available.\n",
      "You should consider upgrading via the '/home/michal/venv/ML-3.8/bin/python -m pip install --upgrade pip' command.\u001b[0m\n",
      "tensorboard_logdir: /home/michal/airflow/artifact-store/pipelines/tfx-titanic-training/Trainer/model\n"
     ]
    }
   ],
   "source": [
    "from __future__ import print_function\n",
    "\n",
    "import os\n",
    "import webbrowser\n",
    "import tensorflow as tf\n",
    "\n",
    "!pip install -q tensorboard\n",
    "tf.get_logger().propagate = False\n",
    "\n",
    "\n",
    "tensorboard_logdir = os.path.join(os.environ['HOME'], 'airflow/artifact-store/pipelines', \n",
    "                                  pipeline_name, 'Trainer/model')\n",
    "print('tensorboard_logdir: {}'.format(tensorboard_logdir))\n",
    "os.environ['TENSORBOARD_LOGDIR'] = tensorboard_logdir\n"
   ]
  },
  {
   "cell_type": "markdown",
   "id": "beginning-competition",
   "metadata": {},
   "source": [
    "### Start TensorBoard\n",
    "\n",
    "Note: This cell continues to run until you interrupt the kernel."
   ]
  },
  {
   "cell_type": "code",
   "execution_count": 4,
   "id": "serious-graphics",
   "metadata": {},
   "outputs": [
    {
     "name": "stdout",
     "output_type": "stream",
     "text": [
      "2021-05-11 23:40:34.053237: I tensorflow/stream_executor/platform/default/dso_loader.cc:48] Successfully opened dynamic library libcudart.so.10.1\n",
      "TensorBoard 2.4.1 at http://michal-ubuntu20-vm:6006/ (Press CTRL+C to quit)\n",
      "^C\n"
     ]
    }
   ],
   "source": [
    "!tensorboard --bind_all --logdir=\"${TENSORBOARD_LOGDIR}\""
   ]
  }
 ],
 "metadata": {
  "kernelspec": {
   "display_name": "Python 3",
   "language": "python",
   "name": "python3"
  },
  "language_info": {
   "codemirror_mode": {
    "name": "ipython",
    "version": 3
   },
   "file_extension": ".py",
   "mimetype": "text/x-python",
   "name": "python",
   "nbconvert_exporter": "python",
   "pygments_lexer": "ipython3",
   "version": "3.8.5"
  }
 },
 "nbformat": 4,
 "nbformat_minor": 5
}
