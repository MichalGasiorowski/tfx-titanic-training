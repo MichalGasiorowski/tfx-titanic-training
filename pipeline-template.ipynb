{
 "cells": [
  {
   "cell_type": "markdown",
   "metadata": {},
   "source": [
    "# Continuous training with TFX and Google Cloud AI Platform"
   ]
  },
  {
   "cell_type": "markdown",
   "metadata": {},
   "source": [
    "## Learning Objectives\n",
    "\n",
    "1.  Use the TFX CLI to build a TFX pipeline.\n",
    "2.  Deploy a TFX pipeline version without tuning to a hosted AI Platform Pipelines instance.\n",
    "3.  Create and monitor a TFX pipeline run using the TFX CLI.\n",
    "4.  Deploy a new TFX pipeline version with tuning enabled to a hosted AI Platform Pipelines instance.\n",
    "5.  Create and monitor another TFX pipeline run directly in the KFP UI."
   ]
  },
  {
   "cell_type": "markdown",
   "metadata": {},
   "source": [
    "In this lab, you use utilize the following tools and services to deploy and run a TFX pipeline on Google Cloud that automates the development and deployment of a TensorFlow 2.3 WideDeep Classifer to predict forest cover from cartographic data:\n",
    "\n",
    "* The [**TFX CLI**](https://www.tensorflow.org/tfx/guide/cli) utility to build and deploy a TFX pipeline.\n",
    "* A hosted [**AI Platform Pipeline instance (Kubeflow Pipelines)**](https://www.tensorflow.org/tfx/guide/kubeflow) for TFX pipeline orchestration.\n",
    "* [**Dataflow**](https://cloud.google.com/dataflow) jobs for scalable, distributed data processing for TFX components.\n",
    "* A [**AI Platform Training**](https://cloud.google.com/ai-platform/) job for model training and flock management for parallel tuning trials. \n",
    "* [**AI Platform Prediction**](https://cloud.google.com/ai-platform/) as a model server destination for blessed pipeline model versions.\n",
    "* [**CloudTuner**](https://www.tensorflow.org/tfx/guide/tuner#tuning_on_google_cloud_platform_gcp) and [**AI Platform Vizier**](https://cloud.google.com/ai-platform/optimizer/docs/overview) for advanced model hyperparameter tuning using the Vizier algorithm.\n",
    "\n",
    "You will then create and monitor pipeline runs using the TFX CLI as well as the KFP UI."
   ]
  },
  {
   "cell_type": "markdown",
   "metadata": {},
   "source": [
    "### Setup"
   ]
  },
  {
   "cell_type": "markdown",
   "metadata": {},
   "source": [
    "#### Update lab environment PATH to include TFX CLI and skaffold"
   ]
  },
  {
   "cell_type": "code",
   "execution_count": 7,
   "metadata": {},
   "outputs": [
    {
     "name": "stdout",
     "output_type": "stream",
     "text": [
      "env: PATH=/home/michal/.local/bin:/home/michal/.local/bin:/home/michal/venv/ML-3.8/bin:/home/michal/google-cloud-sdk/bin:/home/michal/anaconda3/bin:/home/michal/anaconda3/condabin:/home/michal/.local/bin:/usr/local/sbin:/usr/local/bin:/usr/sbin:/usr/bin:/sbin:/bin:/usr/games:/usr/local/games:/snap/bin\n"
     ]
    }
   ],
   "source": [
    "import yaml\n",
    "\n",
    "# Set `PATH` to include the directory containing TFX CLI and skaffold.\n",
    "PATH=%env PATH\n",
    "HOME=%env HOME\n",
    "\n",
    "%env PATH={HOME}/.local/bin:{PATH}"
   ]
  },
  {
   "cell_type": "markdown",
   "metadata": {},
   "source": [
    "#### Validate lab package version installation"
   ]
  },
  {
   "cell_type": "code",
   "execution_count": 8,
   "metadata": {},
   "outputs": [
    {
     "name": "stdout",
     "output_type": "stream",
     "text": [
      "TFX version: 0.25.0\n",
      "KFP version: 1.0.4\n"
     ]
    }
   ],
   "source": [
    "!python -c \"import tfx; print('TFX version: {}'.format(tfx.__version__))\"\n",
    "!python -c \"import kfp; print('KFP version: {}'.format(kfp.__version__))\""
   ]
  },
  {
   "cell_type": "markdown",
   "metadata": {},
   "source": [
    "**Note**: this lab was built and tested with the following package versions:\n",
    "\n",
    "`TFX version: 0.25.0`  \n",
    "`KFP version: 1.0.4`"
   ]
  },
  {
   "cell_type": "markdown",
   "metadata": {},
   "source": [
    "(Optional) If running the above command results in different package versions or you receive an import error, upgrade to the correct versions by running the cell below:"
   ]
  },
  {
   "cell_type": "code",
   "execution_count": null,
   "metadata": {},
   "outputs": [],
   "source": [
    "%pip install --upgrade --user tfx==0.25.0\n",
    "%pip install --upgrade --user kfp==1.0.4"
   ]
  },
  {
   "cell_type": "markdown",
   "metadata": {},
   "source": [
    "Note: you may need to restart the kernel to pick up the correct package versions."
   ]
  },
  {
   "cell_type": "markdown",
   "metadata": {},
   "source": [
    "## Setup local path to data, train, test folders "
   ]
  },
  {
   "cell_type": "code",
   "execution_count": 9,
   "metadata": {},
   "outputs": [],
   "source": [
    "import os\n",
    "from pathlib import Path\n",
    "\n",
    "try: notebook_path\n",
    "except NameError: \n",
    "    notebook_path=os.getcwd()\n",
    "\n",
    "local_data_dirpath = os.path.join(notebook_path, 'data')\n",
    "\n",
    "local_train_dirpath = os.path.join(local_data_dirpath, \"train\")\n",
    "local_train_filepath = os.path.join(local_train_dirpath, \"train.csv\")\n",
    "local_test_dirpath = os.path.join(local_data_dirpath, \"test\")\n",
    "local_test_filepath = os.path.join(local_test_dirpath, \"test.csv\")\n"
   ]
  },
  {
   "cell_type": "markdown",
   "metadata": {
    "pycharm": {
     "name": "#%% md\n"
    }
   },
   "source": [
    "## Load kaggle"
   ]
  },
  {
   "cell_type": "code",
   "execution_count": 3,
   "metadata": {
    "jupyter": {
     "outputs_hidden": false
    },
    "pycharm": {
     "name": "#%%\n"
    }
   },
   "outputs": [],
   "source": [
    "!pip install -q kaggle\n",
    "!mkdir -p ~/.kaggle\n",
    "!cp kaggle.json ~/.kaggle/\n",
    "!rm kaggle.json\n",
    "!chmod 600 ~/.kaggle/kaggle.json"
   ]
  },
  {
   "cell_type": "markdown",
   "metadata": {},
   "source": [
    "#### Validate creation of AI Platform Pipelines cluster\n",
    "\n",
    "Navigate to [AI Platform Pipelines](https://console.cloud.google.com/ai-platform/pipelines/clusters) page in the Google Cloud Console.\n",
    "\n",
    "Note you may have already deployed an AI Pipelines instance during the Setup for the lab series. If so, you can proceed using that instance. If not:\n",
    "\n",
    "**1.  Create or select an existing Kubernetes cluster (GKE) and deploy AI Platform**. Make sure to select `\"Allow access to the following Cloud APIs https://www.googleapis.com/auth/cloud-platform\"` to allow for programmatic access to your pipeline by the Kubeflow SDK for the rest of the lab. Also, provide an `App instance name` such as \"tfx\" or \"mlops\". \n",
    "\n",
    "Validate the deployment of your AI Platform Pipelines instance in the console before proceeding."
   ]
  },
  {
   "cell_type": "markdown",
   "metadata": {},
   "source": [
    "## Review: example TFX pipeline design pattern for Google Cloud\n",
    "The pipeline source code can be found in the `pipeline` folder."
   ]
  },
  {
   "cell_type": "code",
   "execution_count": 10,
   "metadata": {},
   "outputs": [
    {
     "name": "stdout",
     "output_type": "stream",
     "text": [
      "/home/michal/PycharmProjects/ml-gcp-pipeline/tfx_titanic_pipeline/pipeline\n"
     ]
    }
   ],
   "source": [
    "%cd {notebook_path}/pipeline"
   ]
  },
  {
   "cell_type": "code",
   "execution_count": 11,
   "metadata": {},
   "outputs": [
    {
     "name": "stdout",
     "output_type": "stream",
     "text": [
      "total 124\r\n",
      "drwxrwxr-x 7 michal michal  4096 kwi 29 16:54 .\r\n",
      "drwxrwxr-x 6 michal michal  4096 kwi 29 15:55 ..\r\n",
      "-rw-rw-r-- 1 michal michal  5883 kwi 29 16:33 beam_dag_runner.py\r\n",
      "-rw-rw-r-- 1 michal michal   280 kwi 28 18:06 build.yaml\r\n",
      "drwxrwxr-x 3 michal michal  4096 kwi 21 23:18 client\r\n",
      "-rw-rw-r-- 1 michal michal  3160 kwi 29 16:06 config.py\r\n",
      "-rw-rw-r-- 1 michal michal    97 mar 10 12:14 Dockerfile\r\n",
      "-rw-rw-r-- 1 michal michal  4310 kwi  9 15:57 features.py\r\n",
      "drwxrwxr-x 2 michal michal  4096 kwi 16 15:10 hyperparameters\r\n",
      "-rw-rw-r-- 1 michal michal     0 kwi  9 11:32 __init__.py\r\n",
      "-rw-rw-r-- 1 michal michal  6520 kwi 29 16:45 kubeflow_runner.py\r\n",
      "-rw-rw-r-- 1 michal michal  5383 kwi 29 16:33 local_runner.py\r\n",
      "-rw-rw-r-- 1 michal michal 14701 kwi 15 13:29 model.py\r\n",
      "-rw-rw-r-- 1 michal michal  3500 kwi 29 16:54 pipeline_args.py\r\n",
      "-rw-rw-r-- 1 michal michal 14490 kwi 29 16:53 pipelines.py\r\n",
      "-rw-rw-r-- 1 michal michal  4506 kwi 11 02:00 preprocessing.py\r\n",
      "drwxrwxr-x 2 michal michal  4096 kwi 28 17:09 __pycache__\r\n",
      "drwxrwxr-x 2 michal michal  4096 mar 11 18:48 schema\r\n",
      "drwxrwxr-x 3 michal michal  4096 kwi 29 16:32 tests\r\n",
      "-rw-rw-r-- 1 michal michal  4695 kwi 28 18:30 tfx-titanic-training.tar.gz\r\n"
     ]
    }
   ],
   "source": [
    "!ls -la"
   ]
  },
  {
   "cell_type": "markdown",
   "metadata": {},
   "source": [
    "The `config.py` module configures the default values for the environment specific settings and the default values for the pipeline runtime parameters. \n",
    "The default values can be overwritten at compile time by providing the updated values in a set of environment variables. You will set custom environment variables later on this lab."
   ]
  },
  {
   "cell_type": "markdown",
   "metadata": {},
   "source": [
    "The `pipeline.py` module contains the TFX DSL defining the workflow implemented by the pipeline.\n",
    "\n",
    "The `preprocessing.py` module implements the data preprocessing logic  the `Transform` component.\n",
    "\n",
    "The `model.py` module implements the training, tuning, and model building logic for the `Trainer` and `Tuner` components.\n",
    "\n",
    "The `runner.py` module configures and executes `KubeflowDagRunner`. At compile time, the `KubeflowDagRunner.run()` method converts the TFX DSL into the pipeline package in the [argo](https://argoproj.github.io/argo/) format for execution on your hosted AI Platform Pipelines instance.\n",
    "\n",
    "The `features.py` module contains feature definitions common across `preprocessing.py` and `model.py`.\n"
   ]
  },
  {
   "cell_type": "markdown",
   "metadata": {},
   "source": [
    "## Exercise: build your pipeline with the TFX CLI\n",
    "\n",
    "You will use TFX CLI to compile and deploy the pipeline. As explained in the previous section, the environment specific settings can be provided through a set of environment variables and embedded into the pipeline package at compile time."
   ]
  },
  {
   "cell_type": "markdown",
   "metadata": {},
   "source": [
    "### Configure your environment resource settings\n",
    "\n",
    "Update  the below constants  with the settings reflecting your lab environment. \n",
    "\n",
    "- `GCP_REGION` - the compute region for AI Platform Training, Vizier, and Prediction.\n",
    "- `ARTIFACT_STORE` - An existing GCS bucket. You can use any bucket or use the GCS bucket created during installation of AI Platform Pipelines. The default bucket name will contain the `kubeflowpipelines-` prefix."
   ]
  },
  {
   "cell_type": "code",
   "execution_count": 12,
   "metadata": {},
   "outputs": [
    {
     "name": "stdout",
     "output_type": "stream",
     "text": [
      "gs://artifacts.cloud-training-281409.appspot.com/\r\n",
      "gs://cloud-training-281409/\r\n",
      "gs://cloud-training-281409-kubeflowpipelines-default/\r\n",
      "gs://kubeflow-storage-goose/\r\n"
     ]
    }
   ],
   "source": [
    "# Use the following command to identify the GCS bucket for metadata and pipeline storage.\n",
    "!gsutil ls"
   ]
  },
  {
   "cell_type": "markdown",
   "metadata": {},
   "source": [
    "* `CUSTOM_SERVICE_ACCOUNT` - In the gcp console Click on the Navigation Menu. Navigate to `IAM & Admin`, then to `Service Accounts` and use the service account starting with prefix - `'tfx-tuner-caip-service-account'`. This enables CloudTuner and the Google Cloud AI Platform extensions Tuner component to work together and allows for distributed and parallel tuning backed by AI Platform Vizier's hyperparameter search algorithm. Please see the lab setup `README` for setup instructions."
   ]
  },
  {
   "cell_type": "markdown",
   "metadata": {},
   "source": [
    "- `ENDPOINT` - set the `ENDPOINT` constant to the endpoint to your AI Platform Pipelines instance. The endpoint to the AI Platform Pipelines instance can be found on the [AI Platform Pipelines](https://console.cloud.google.com/ai-platform/pipelines/clusters) page in the Google Cloud Console. Open the *SETTINGS* for your instance and use the value of the `host` variable in the *Connect to this Kubeflow Pipelines instance from a Python client via Kubeflow Pipelines SKD* section of the *SETTINGS* window. The format is `'...pipelines.googleusercontent.com'`."
   ]
  },
  {
   "cell_type": "code",
   "execution_count": 35,
   "metadata": {},
   "outputs": [],
   "source": [
    "#TODO: Set your environment resource settings here for GCP_REGION, ARTIFACT_STORE_URI, ENDPOINT, and CUSTOM_SERVICE_ACCOUNT.\n",
    "GCP_REGION = 'us-central1'\n",
    "ARTIFACT_STORE_URI = 'gs://cloud-training-281409-kubeflowpipelines-default'\n",
    "ENDPOINT = 'https://c281ee5ff79be53-dot-us-central1.pipelines.googleusercontent.com'\n",
    "CUSTOM_SERVICE_ACCOUNT = 'tfx-tuner-service-account@cloud-training-281409.iam.gserviceaccount.com'\n",
    "\n",
    "PROJECT_ID = !(gcloud config get-value core/project)\n",
    "PROJECT_ID = PROJECT_ID[0]"
   ]
  },
  {
   "cell_type": "code",
   "execution_count": 59,
   "metadata": {},
   "outputs": [
    {
     "name": "stdout",
     "output_type": "stream",
     "text": [
      "env: GCP_REGION=us-central1\n",
      "env: ARTIFACT_STORE_URI=gs://cloud-training-281409-kubeflowpipelines-default\n",
      "env: CUSTOM_SERVICE_ACCOUNT=tfx-tuner-service-account@cloud-training-281409.iam.gserviceaccount.com\n",
      "env: PROJECT_ID=cloud-training-281409\n"
     ]
    }
   ],
   "source": [
    "# Set your resource settings as environment variables. These override the default values in pipeline/config.py.\n",
    "%env GCP_REGION={GCP_REGION}\n",
    "%env ARTIFACT_STORE_URI={ARTIFACT_STORE_URI}\n",
    "%env CUSTOM_SERVICE_ACCOUNT={CUSTOM_SERVICE_ACCOUNT}\n",
    "%env PROJECT_ID={PROJECT_ID}"
   ]
  },
  {
   "cell_type": "markdown",
   "metadata": {},
   "source": [
    "### Set the compile time settings to first create a pipeline version without hyperparameter tuning\n",
    "\n",
    "Default pipeline runtime environment values are configured in the pipeline folder `config.py`. You will set their values directly below:\n",
    "\n",
    "* `PIPELINE_NAME` - the pipeline's globally unique name. For each pipeline update, each pipeline version uploaded to KFP will be reflected on the `Pipelines` tab in the `Pipeline name > Version name` dropdown in the format `PIPELINE_NAME_datetime.now()`.\n",
    "\n",
    "* `MODEL_NAME` - the pipeline's unique model output name for AI Platform Prediction. For multiple pipeline runs, each pushed blessed model will create a new version with the format `'v{}'.format(int(time.time()))`.\n",
    "\n",
    "* `DATA_ROOT_URI` - the URI for the raw lab dataset `gs://workshop-datasets/covertype/small`.\n",
    "\n",
    "* `CUSTOM_TFX_IMAGE` - the image name of your pipeline container build by skaffold and published by `Cloud Build` to `Cloud Container Registry` in the format `'gcr.io/{}/{}'.format(PROJECT_ID, PIPELINE_NAME)`.\n",
    "\n",
    "* `RUNTIME_VERSION` - the TensorFlow runtime version. This lab was built and tested using TensorFlow `2.3`.\n",
    "\n",
    "* `PYTHON_VERSION` - the Python runtime version. This lab was built and tested using Python `3.7`.\n",
    "\n",
    "* `USE_KFP_SA` - The pipeline can run using a security context of the GKE default node pool's service account or the service account defined in the `user-gcp-sa` secret of the Kubernetes namespace hosting Kubeflow Pipelines. If you want to use the `user-gcp-sa` service account you change the value of `USE_KFP_SA` to `True`. Note that the default AI Platform Pipelines configuration does not define the `user-gcp-sa` secret.\n",
    "\n",
    "* `ENABLE_TUNING` - boolean value indicating whether to add the `Tuner` component to the pipeline or use hyperparameter defaults. See the `model.py` and `pipeline.py` files for details on how this changes the pipeline topology across pipeline versions. You will create pipeline versions without and with tuning enabled in the subsequent lab exercises for comparison."
   ]
  },
  {
   "cell_type": "code",
   "execution_count": 60,
   "metadata": {},
   "outputs": [],
   "source": [
    "USE_GS=True\n",
    "USE_AI_PLATFORM=True\n",
    "\n",
    "PIPELINE_NAME = 'tfx-titanic-training-2'\n",
    "MODEL_NAME = 'tfx_titanic_classifier'\n",
    "DATA_ROOT_URI = 'gs://cloud-training-281409-kubeflowpipelines-default/tfx-template/data/titanic'\n",
    "CUSTOM_TFX_IMAGE = 'gcr.io/{}/{}'.format(PROJECT_ID, PIPELINE_NAME)\n",
    "RUNTIME_VERSION = '2.3'\n",
    "PYTHON_VERSION = '3.7'\n",
    "USE_KFP_SA=False\n",
    "ENABLE_CACHE=False\n",
    "\n",
    "\n",
    "TRAIN_STEPS = '10000'\n",
    "EVAL_STEPS = '1000'\n",
    "TRAIN_BATCH_SIZE = '64'\n",
    "EVAL_BATCH_SIZE = '64'\n",
    "\n",
    "ENABLE_TUNING=True\n",
    "TUNER_STEPS = '2000'\n",
    "MAX_TRIALS = '10'\n"
   ]
  },
  {
   "cell_type": "code",
   "execution_count": 61,
   "metadata": {},
   "outputs": [
    {
     "name": "stdout",
     "output_type": "stream",
     "text": [
      "env: USE_GS=True\n",
      "env: USE_AI_PLATFORM=True\n",
      "env: PIPELINE_NAME=tfx-titanic-training-2\n",
      "env: MODEL_NAME=tfx_titanic_classifier\n",
      "env: DATA_ROOT_URI=gs://cloud-training-281409-kubeflowpipelines-default/tfx-template/data/titanic\n",
      "env: CUSTOM_TFX_IMAGE=gcr.io/cloud-training-281409/tfx-titanic-training-2\n",
      "env: RUNTIME_VERSION=2.3\n",
      "env: PYTHON_VERSION=3.7\n",
      "env: USE_KFP_SA=False\n",
      "env: ENABLE_CACHE=False\n",
      "env: TRAIN_STEPS=10000\n",
      "env: EVAL_STEPS=1000\n",
      "env: TRAIN_BATCH_SIZE=64\n",
      "env: EVAL_BATCH_SIZE=64\n",
      "env: ENABLE_TUNING=True\n",
      "env: TUNER_STEPS=2000\n",
      "env: MAX_TRIALS=10\n"
     ]
    }
   ],
   "source": [
    "%env USE_GS={USE_GS}\n",
    "%env USE_AI_PLATFORM={USE_AI_PLATFORM}\n",
    "\n",
    "%env PIPELINE_NAME={PIPELINE_NAME}\n",
    "%env MODEL_NAME={MODEL_NAME}\n",
    "%env DATA_ROOT_URI={DATA_ROOT_URI}\n",
    "%env CUSTOM_TFX_IMAGE={CUSTOM_TFX_IMAGE}\n",
    "\n",
    "%env RUNTIME_VERSION={RUNTIME_VERSION}\n",
    "%env PYTHON_VERSION={PYTHON_VERSION}\n",
    "%env USE_KFP_SA={USE_KFP_SA}\n",
    "%env ENABLE_CACHE={ENABLE_CACHE}\n",
    "\n",
    "%env TRAIN_STEPS={TRAIN_STEPS}\n",
    "%env EVAL_STEPS={EVAL_STEPS}\n",
    "%env TRAIN_BATCH_SIZE={TRAIN_BATCH_SIZE}\n",
    "%env EVAL_BATCH_SIZE={EVAL_BATCH_SIZE}\n",
    "\n",
    "\n",
    "%env ENABLE_TUNING={ENABLE_TUNING}\n",
    "%env TUNER_STEPS={TUNER_STEPS}\n",
    "%env MAX_TRIALS={MAX_TRIALS}\n"
   ]
  },
  {
   "cell_type": "markdown",
   "metadata": {},
   "source": [
    "## Copy data"
   ]
  },
  {
   "cell_type": "code",
   "execution_count": 20,
   "metadata": {
    "jupyter": {
     "outputs_hidden": false
    },
    "pycharm": {
     "name": "#%%\n"
    }
   },
   "outputs": [],
   "source": [
    "import os\n",
    "from pathlib import Path\n",
    "\n",
    "_data_root = os.path.join(\".\", 'data')\n",
    "_train_dirpath = os.path.join(_data_root, \"train\")\n",
    "_train_filepath = os.path.join(_train_dirpath, \"train.csv\")\n",
    "_test_dirpath = os.path.join(_data_root, \"test\")\n",
    "_test_filepath = os.path.join(_test_dirpath, \"test.csv\")"
   ]
  },
  {
   "cell_type": "markdown",
   "metadata": {},
   "source": [
    "## Download data from kaggle, unzip it and copy it to data folder"
   ]
  },
  {
   "cell_type": "code",
   "execution_count": 20,
   "metadata": {
    "jupyter": {
     "outputs_hidden": false
    },
    "pycharm": {
     "name": "#%%\n"
    }
   },
   "outputs": [
    {
     "name": "stdout",
     "output_type": "stream",
     "text": [
      "Downloading titanic.zip to ./data\n",
      "  0%|                                               | 0.00/34.1k [00:00<?, ?B/s]\n",
      "100%|██████████████████████████████████████| 34.1k/34.1k [00:00<00:00, 6.56MB/s]\n",
      "Archive:  ./data/titanic.zip\n",
      "  inflating: ./data/gender_submission.csv  \n",
      "  inflating: ./data/test.csv         \n",
      "  inflating: ./data/train.csv        \n"
     ]
    }
   ],
   "source": [
    "!kaggle competitions download -c titanic -p {_data_root} --force\n",
    "!unzip -o {_data_root}/\"titanic.zip\" -d {_data_root}\n",
    "!cp {_data_root}/\"train.csv\" {_train_filepath}\n",
    "!cp {_data_root}/\"test.csv\" {_test_filepath}\n",
    "\n",
    "# clean up\n",
    "!rm  {_data_root}/*.csv  {_data_root}/*.zip"
   ]
  },
  {
   "cell_type": "markdown",
   "metadata": {},
   "source": [
    "Let's upload our sample data to GCS bucket so that we can use it in our pipeline later."
   ]
  },
  {
   "cell_type": "markdown",
   "metadata": {},
   "source": [
    "Copy csv data to bucket"
   ]
  },
  {
   "cell_type": "code",
   "execution_count": 62,
   "metadata": {
    "jupyter": {
     "outputs_hidden": false
    },
    "pycharm": {
     "name": "#%%\n"
    }
   },
   "outputs": [
    {
     "name": "stdout",
     "output_type": "stream",
     "text": [
      "Copying file:///home/michal/PycharmProjects/ml-gcp-pipeline/tfx_titanic_pipeline/data/train/train.csv [Content-Type=text/csv]...\n",
      "/ [1 files][ 58.9 KiB/ 58.9 KiB]                                                \n",
      "Operation completed over 1 objects/58.9 KiB.                                     \n"
     ]
    }
   ],
   "source": [
    "!gsutil cp {notebook_path}/data/train/train.csv gs://cloud-training-281409-kubeflowpipelines-default/tfx-template/data/titanic/data.csv\n"
   ]
  },
  {
   "cell_type": "markdown",
   "metadata": {},
   "source": [
    "## Change directory to pipeline"
   ]
  },
  {
   "cell_type": "code",
   "execution_count": 63,
   "metadata": {},
   "outputs": [
    {
     "name": "stdout",
     "output_type": "stream",
     "text": [
      "/home/michal/PycharmProjects/ml-gcp-pipeline/tfx_titanic_pipeline/pipeline\n"
     ]
    }
   ],
   "source": [
    "%cd {notebook_path}/pipeline"
   ]
  },
  {
   "cell_type": "markdown",
   "metadata": {},
   "source": [
    "### Compile your pipeline code\n",
    "\n",
    "You can build and upload the pipeline to the AI Platform Pipelines instance in one step, using the `tfx pipeline create` command. The `tfx pipeline create` goes through the following steps:\n",
    "- (Optional) Builds the custom image to that provides a runtime environment for TFX components or uses the latest image of the installed TFX version \n",
    "- Compiles the pipeline code into a pipeline package \n",
    "- Uploads the pipeline package via the `ENDPOINT` to the hosted AI Platform instance.\n",
    "\n",
    "As you debug the pipeline DSL, you may prefer to first use the `tfx pipeline compile` command, which only executes the compilation step. After the DSL compiles successfully you can use `tfx pipeline create` to go through all steps."
   ]
  },
  {
   "cell_type": "code",
   "execution_count": 64,
   "metadata": {},
   "outputs": [
    {
     "name": "stdout",
     "output_type": "stream",
     "text": [
      "2021-04-29 18:31:53.901988: I tensorflow/stream_executor/platform/default/dso_loader.cc:48] Successfully opened dynamic library libcudart.so.10.1\n",
      "CLI\n",
      "Compiling pipeline\n",
      "2021-04-29 18:31:56.125628: I tensorflow/stream_executor/platform/default/dso_loader.cc:48] Successfully opened dynamic library libcudart.so.10.1\n",
      "WARNING:absl:RuntimeParameter is only supported on Cloud-based DAG runner currently.\n",
      "WARNING:absl:RuntimeParameter is only supported on Cloud-based DAG runner currently.\n",
      "WARNING:absl:RuntimeParameter is only supported on Cloud-based DAG runner currently.\n",
      "WARNING:absl:RuntimeParameter is only supported on Cloud-based DAG runner currently.\n",
      "WARNING:absl:RuntimeParameter is only supported on Cloud-based DAG runner currently.\n",
      "INFO:absl:PIPELINE_ROOT=gs://cloud-training-281409-kubeflowpipelines-default/tfx-titanic-training-2/{{workflow.uid}}\n",
      "INFO:absl:train_steps for training: 10000\n",
      "INFO:absl:tuner_steps for tuning: 2000\n",
      "INFO:absl:data_root_uri for training: gs://cloud-training-281409-kubeflowpipelines-default/tfx-template/data/titanic\n",
      "INFO:absl:eval_steps for evaluating: 1000\n",
      "INFO:absl:Excluding no splits because exclude_splits is not set.\n",
      "INFO:absl:Excluding no splits because exclude_splits is not set.\n",
      "WARNING:absl:`instance_name` is deprecated, please set node id directly using`with_id()` or `.id` setter.\n",
      "INFO:absl:Excluding no splits because exclude_splits is not set.\n",
      "WARNING:absl:`instance_name` is deprecated, please set node id directly using`with_id()` or `.id` setter.\n",
      "INFO:absl:tuner_args: {'module_file': 'model.py', 'examples': Channel(\n",
      "    type_name: Examples\n",
      "    artifacts: []\n",
      "), 'transform_graph': Channel(\n",
      "    type_name: TransformGraph\n",
      "    artifacts: []\n",
      "), 'train_args': {'num_steps': {\"__class__\": \"RuntimeParameter\", \"__module__\": \"tfx.orchestration.data_types\", \"__tfx_object_type__\": \"jsonable\", \"default\": 2000, \"description\": null, \"name\": \"tuner-steps\", \"ptype\": {\"__class__\": \"int\", \"__module__\": \"builtins\", \"__tfx_object_type__\": \"class\"}}}, 'eval_args': {'num_steps': {\"__class__\": \"RuntimeParameter\", \"__module__\": \"tfx.orchestration.data_types\", \"__tfx_object_type__\": \"jsonable\", \"default\": 1000, \"description\": null, \"name\": \"eval-steps\", \"ptype\": {\"__class__\": \"int\", \"__module__\": \"builtins\", \"__tfx_object_type__\": \"class\"}}}, 'custom_config': {'max_trials': 10}}\n",
      "WARNING:absl:`instance_name` is deprecated, please set node id directly using`with_id()` or `.id` setter.\n",
      "INFO:absl:Adding upstream dependencies for component CsvExampleGen\n",
      "INFO:absl:Adding upstream dependencies for component ImporterNode_import_user_schema\n",
      "INFO:absl:Adding upstream dependencies for component ResolverNode_latest_blessed_model_resolver\n",
      "INFO:absl:Adding upstream dependencies for component StatisticsGen\n",
      "INFO:absl:   ->  Component: CsvExampleGen\n",
      "INFO:absl:Adding upstream dependencies for component Transform\n",
      "INFO:absl:   ->  Component: ImporterNode_import_user_schema\n",
      "INFO:absl:   ->  Component: CsvExampleGen\n",
      "INFO:absl:Adding upstream dependencies for component ExampleValidator\n",
      "INFO:absl:   ->  Component: ImporterNode_import_user_schema\n",
      "INFO:absl:   ->  Component: StatisticsGen\n",
      "INFO:absl:Adding upstream dependencies for component SchemaGen\n",
      "INFO:absl:   ->  Component: StatisticsGen\n",
      "INFO:absl:Adding upstream dependencies for component Tuner\n",
      "INFO:absl:   ->  Component: Transform\n",
      "INFO:absl:Adding upstream dependencies for component Trainer\n",
      "INFO:absl:   ->  Component: Transform\n",
      "INFO:absl:   ->  Component: ImporterNode_import_user_schema\n",
      "INFO:absl:   ->  Component: Tuner\n",
      "INFO:absl:Adding upstream dependencies for component Evaluator\n",
      "INFO:absl:   ->  Component: Trainer\n",
      "INFO:absl:   ->  Component: ResolverNode_latest_blessed_model_resolver\n",
      "INFO:absl:   ->  Component: CsvExampleGen\n",
      "INFO:absl:Adding upstream dependencies for component InfraValidator\n",
      "INFO:absl:   ->  Component: Trainer\n",
      "INFO:absl:   ->  Component: CsvExampleGen\n",
      "INFO:absl:Adding upstream dependencies for component Pusher\n",
      "INFO:absl:   ->  Component: Trainer\n",
      "INFO:absl:   ->  Component: Evaluator\n",
      "INFO:absl:   ->  Component: InfraValidator\n",
      "Pipeline compiled successfully.\n",
      "Pipeline package path: /home/michal/PycharmProjects/ml-gcp-pipeline/tfx_titanic_pipeline/pipeline/tfx-titanic-training-2.tar.gz\n"
     ]
    }
   ],
   "source": [
    "!tfx pipeline compile --engine kubeflow --pipeline_path kubeflow_runner.py"
   ]
  },
  {
   "cell_type": "markdown",
   "metadata": {},
   "source": [
    "Note: you should see a `{PIPELINE_NAME}.tar.gz` file appear in your current pipeline directory."
   ]
  },
  {
   "cell_type": "code",
   "execution_count": 51,
   "metadata": {},
   "outputs": [
    {
     "data": {
      "text/plain": [
       "{'next_page_token': None,\n",
       " 'pipelines': [{'created_at': datetime.datetime(2021, 4, 29, 15, 46, 5, tzinfo=tzutc()),\n",
       "                'default_version': {'code_source_url': None,\n",
       "                                    'created_at': datetime.datetime(2021, 4, 29, 15, 46, 5, tzinfo=tzutc()),\n",
       "                                    'id': 'b958ad14-a0ea-4657-bb2e-91a0ddf54d96',\n",
       "                                    'name': '[Demo] XGBoost - Iterative model '\n",
       "                                            'training',\n",
       "                                    'package_url': None,\n",
       "                                    'parameters': None,\n",
       "                                    'resource_references': [{'key': {'id': 'b958ad14-a0ea-4657-bb2e-91a0ddf54d96',\n",
       "                                                                     'type': 'PIPELINE'},\n",
       "                                                             'name': None,\n",
       "                                                             'relationship': 'OWNER'}]},\n",
       "                'description': '[source '\n",
       "                               'code](https://github.com/kubeflow/pipelines/blob/d79071c0bef19442483abc101769a0d893e72f42/samples/core/train_until_good/train_until_good.py) '\n",
       "                               'This sample demonstrates iterative training '\n",
       "                               'using a train-eval-check recursive loop. The '\n",
       "                               'main pipeline trains the initial model and '\n",
       "                               'then gradually trains the model some more '\n",
       "                               'until the model evaluation metrics are good '\n",
       "                               'enough.',\n",
       "                'error': None,\n",
       "                'id': 'b958ad14-a0ea-4657-bb2e-91a0ddf54d96',\n",
       "                'name': '[Demo] XGBoost - Iterative model training',\n",
       "                'parameters': None,\n",
       "                'url': None},\n",
       "               {'created_at': datetime.datetime(2021, 4, 29, 15, 46, 6, tzinfo=tzutc()),\n",
       "                'default_version': {'code_source_url': None,\n",
       "                                    'created_at': datetime.datetime(2021, 4, 29, 15, 46, 6, tzinfo=tzutc()),\n",
       "                                    'id': '42010a18-b69b-4961-a254-e6e2a568a33c',\n",
       "                                    'name': '[Demo] TFX - Taxi tip prediction '\n",
       "                                            'model trainer',\n",
       "                                    'package_url': None,\n",
       "                                    'parameters': [{'name': 'pipeline-root',\n",
       "                                                    'value': 'gs://{{kfp-default-bucket}}/tfx_taxi_simple/{{workflow.uid}}'},\n",
       "                                                   {'name': 'data-root',\n",
       "                                                    'value': 'gs://ml-pipeline/sample-data/chicago-taxi/data'},\n",
       "                                                   {'name': 'module-file',\n",
       "                                                    'value': '/tfx/src/tfx/examples/chicago_taxi_pipeline/taxi_utils.py'}],\n",
       "                                    'resource_references': [{'key': {'id': '42010a18-b69b-4961-a254-e6e2a568a33c',\n",
       "                                                                     'type': 'PIPELINE'},\n",
       "                                                             'name': None,\n",
       "                                                             'relationship': 'OWNER'}]},\n",
       "                'description': '[source '\n",
       "                               'code](https://github.com/kubeflow/pipelines/tree/d79071c0bef19442483abc101769a0d893e72f42/samples/core/parameterized_tfx_oss) '\n",
       "                               '[GCP Permission '\n",
       "                               'requirements](https://github.com/kubeflow/pipelines/blob/d79071c0bef19442483abc101769a0d893e72f42/samples/core/parameterized_tfx_oss#permission). '\n",
       "                               'Example pipeline that does classification with '\n",
       "                               'model analysis based on a public tax cab '\n",
       "                               'dataset.',\n",
       "                'error': None,\n",
       "                'id': '42010a18-b69b-4961-a254-e6e2a568a33c',\n",
       "                'name': '[Demo] TFX - Taxi tip prediction model trainer',\n",
       "                'parameters': [{'name': 'pipeline-root',\n",
       "                                'value': 'gs://{{kfp-default-bucket}}/tfx_taxi_simple/{{workflow.uid}}'},\n",
       "                               {'name': 'data-root',\n",
       "                                'value': 'gs://ml-pipeline/sample-data/chicago-taxi/data'},\n",
       "                               {'name': 'module-file',\n",
       "                                'value': '/tfx/src/tfx/examples/chicago_taxi_pipeline/taxi_utils.py'}],\n",
       "                'url': None},\n",
       "               {'created_at': datetime.datetime(2021, 4, 29, 15, 46, 7, tzinfo=tzutc()),\n",
       "                'default_version': {'code_source_url': None,\n",
       "                                    'created_at': datetime.datetime(2021, 4, 29, 15, 46, 7, tzinfo=tzutc()),\n",
       "                                    'id': '9047ec52-b7d4-441d-9029-3cb2c13b5c5f',\n",
       "                                    'name': '[Tutorial] Data passing in python '\n",
       "                                            'components',\n",
       "                                    'package_url': None,\n",
       "                                    'parameters': None,\n",
       "                                    'resource_references': [{'key': {'id': '9047ec52-b7d4-441d-9029-3cb2c13b5c5f',\n",
       "                                                                     'type': 'PIPELINE'},\n",
       "                                                             'name': None,\n",
       "                                                             'relationship': 'OWNER'}]},\n",
       "                'description': '[source '\n",
       "                               'code](https://github.com/kubeflow/pipelines/tree/d79071c0bef19442483abc101769a0d893e72f42/samples/tutorials/Data%20passing%20in%20python%20components) '\n",
       "                               'Shows how to pass data between python '\n",
       "                               'components.',\n",
       "                'error': None,\n",
       "                'id': '9047ec52-b7d4-441d-9029-3cb2c13b5c5f',\n",
       "                'name': '[Tutorial] Data passing in python components',\n",
       "                'parameters': None,\n",
       "                'url': None},\n",
       "               {'created_at': datetime.datetime(2021, 4, 29, 15, 46, 8, tzinfo=tzutc()),\n",
       "                'default_version': {'code_source_url': None,\n",
       "                                    'created_at': datetime.datetime(2021, 4, 29, 15, 46, 8, tzinfo=tzutc()),\n",
       "                                    'id': '2c11b6ce-acd7-457d-bfa0-cadd30a76c1b',\n",
       "                                    'name': '[Tutorial] DSL - Control '\n",
       "                                            'structures',\n",
       "                                    'package_url': None,\n",
       "                                    'parameters': None,\n",
       "                                    'resource_references': [{'key': {'id': '2c11b6ce-acd7-457d-bfa0-cadd30a76c1b',\n",
       "                                                                     'type': 'PIPELINE'},\n",
       "                                                             'name': None,\n",
       "                                                             'relationship': 'OWNER'}]},\n",
       "                'description': '[source '\n",
       "                               'code](https://github.com/kubeflow/pipelines/tree/d79071c0bef19442483abc101769a0d893e72f42/samples/tutorials/DSL%20-%20Control%20structures) '\n",
       "                               'Shows how to use conditional execution and '\n",
       "                               'exit handlers. This pipeline will randomly '\n",
       "                               'fail to demonstrate that the exit handler gets '\n",
       "                               'executed even in case of failure.',\n",
       "                'error': None,\n",
       "                'id': '2c11b6ce-acd7-457d-bfa0-cadd30a76c1b',\n",
       "                'name': '[Tutorial] DSL - Control structures',\n",
       "                'parameters': None,\n",
       "                'url': None}],\n",
       " 'total_size': 4}"
      ]
     },
     "execution_count": 51,
     "metadata": {},
     "output_type": "execute_result"
    }
   ],
   "source": [
    "import kfp\n",
    "client = kfp.Client(host=ENDPOINT)\n",
    "\n",
    "client.list_pipelines()\n",
    "\n",
    "#client.KUBE_PROXY_PATH"
   ]
  },
  {
   "cell_type": "markdown",
   "metadata": {},
   "source": [
    "## Exercise: deploy your pipeline container to AI Platform Pipelines with TFX CLI\n",
    "\n",
    "After the pipeline code compiles without any errors you can use the `tfx pipeline create` command to perform the full build and deploy the pipeline. You will deploy your compiled pipeline container hosted on Google Container Registry e.g. `gcr.io/[PROJECT_ID]/tfx_covertype_continuous_training` to run on AI Platform Pipelines with the TFX CLI."
   ]
  },
  {
   "cell_type": "code",
   "execution_count": 65,
   "metadata": {},
   "outputs": [
    {
     "name": "stdout",
     "output_type": "stream",
     "text": [
      "2021-04-29 18:32:25.061939: I tensorflow/stream_executor/platform/default/dso_loader.cc:48] Successfully opened dynamic library libcudart.so.10.1\n",
      "CLI\n",
      "Creating pipeline\n",
      "Detected Kubeflow.\n",
      "Use --engine flag if you intend to use a different orchestrator.\n",
      "Reading build spec from build.yaml\n",
      "/usr/lib/python3.8/subprocess.py:844: RuntimeWarning: line buffering (buffering=1) isn't supported in binary mode, the default buffer size will be used\n",
      "  self.stdout = io.open(c2pread, 'rb', bufsize)\n",
      "[Skaffold] Generating tags...\n",
      "[Skaffold]  - gcr.io/cloud-training-281409/tfx-titanic-training-2 -> gcr.io/cloud-training-281409/tfx-titanic-training-2:latest\n",
      "[Skaffold] Checking cache...\n",
      "[Skaffold]  - gcr.io/cloud-training-281409/tfx-titanic-training-2: Not found. Building\n",
      "[Skaffold] Starting build...\n",
      "[Skaffold] Building [gcr.io/cloud-training-281409/tfx-titanic-training-2]...\n",
      "[Skaffold] Sending build context to Docker daemon   11.8MB\n",
      "[Skaffold] Step 1/4 : FROM tensorflow/tfx:0.25.0\n",
      "[Skaffold]  ---> 05d9b228cf63\n",
      "[Skaffold] Step 2/4 : WORKDIR ./pipeline\n",
      "[Skaffold]  ---> Using cache\n",
      "[Skaffold]  ---> 4bab981fc274\n",
      "[Skaffold] Step 3/4 : COPY ./ ./\n",
      "[Skaffold]  ---> ec2b83194128\n",
      "[Skaffold] Step 4/4 : ENV PYTHONPATH=\"/pipeline:${PYTHONPATH}\"\n",
      "[Skaffold]  ---> Running in 9fd4b35a9292\n",
      "[Skaffold] Removing intermediate container 9fd4b35a9292\n",
      "[Skaffold]  ---> 396a1084bc0c\n",
      "[Skaffold] Successfully built 396a1084bc0c\n",
      "[Skaffold] Successfully tagged gcr.io/cloud-training-281409/tfx-titanic-training-2:latest\n",
      "[Skaffold] The push refers to repository [gcr.io/cloud-training-281409/tfx-titanic-training-2]\n",
      "[Skaffold] f58b53c57afd: Preparing\n",
      "[Skaffold] a33ccf439f73: Preparing\n",
      "[Skaffold] 5dadc0a09248: Preparing\n",
      "[Skaffold] 8fb12d3bda49: Preparing\n",
      "[Skaffold] 2471eac28ba8: Preparing\n",
      "[Skaffold] 674ba689ae71: Preparing\n",
      "[Skaffold] 4058ae03fa32: Preparing\n",
      "[Skaffold] e3437c61d457: Preparing\n",
      "[Skaffold] 84ff92691f90: Preparing\n",
      "[Skaffold] 54b00d861a7a: Preparing\n",
      "[Skaffold] c547358928ab: Preparing\n",
      "[Skaffold] 84ff92691f90: Preparing\n",
      "[Skaffold] c4e66be694ce: Preparing\n",
      "[Skaffold] 47cc65c6dd57: Preparing\n",
      "[Skaffold] e3437c61d457: Waiting\n",
      "[Skaffold] 84ff92691f90: Waiting\n",
      "[Skaffold] 54b00d861a7a: Waiting\n",
      "[Skaffold] c547358928ab: Waiting\n",
      "[Skaffold] c4e66be694ce: Waiting\n",
      "[Skaffold] 47cc65c6dd57: Waiting\n",
      "[Skaffold] 674ba689ae71: Waiting\n",
      "[Skaffold] 4058ae03fa32: Waiting\n",
      "[Skaffold] 5dadc0a09248: Layer already exists\n",
      "[Skaffold] a33ccf439f73: Layer already exists\n",
      "[Skaffold] 8fb12d3bda49: Layer already exists\n",
      "[Skaffold] 2471eac28ba8: Layer already exists\n",
      "[Skaffold] 674ba689ae71: Layer already exists\n",
      "[Skaffold] 4058ae03fa32: Layer already exists\n",
      "[Skaffold] e3437c61d457: Layer already exists\n",
      "[Skaffold] 84ff92691f90: Layer already exists\n",
      "[Skaffold] 54b00d861a7a: Layer already exists\n",
      "[Skaffold] c547358928ab: Layer already exists\n",
      "[Skaffold] c4e66be694ce: Layer already exists\n",
      "[Skaffold] 47cc65c6dd57: Layer already exists\n",
      "[Skaffold] f58b53c57afd: Pushed\n",
      "[Skaffold] latest: digest: sha256:59f5dd2c5211262e5fc19258e075e2be924a1d636cc793a942f8e0b6ea8bc635 size: 3269\n",
      "[Skaffold] There is a new version (1.23.0) of Skaffold available. Download it from:\n",
      "[Skaffold]   https://github.com/GoogleContainerTools/skaffold/releases/tag/v1.23.0\n",
      "[Skaffold] \n",
      "New container image is built. Target image is available in the build spec file.\n",
      "2021-04-29 18:32:47.534276: I tensorflow/stream_executor/platform/default/dso_loader.cc:48] Successfully opened dynamic library libcudart.so.10.1\n",
      "WARNING:absl:RuntimeParameter is only supported on Cloud-based DAG runner currently.\n",
      "WARNING:absl:RuntimeParameter is only supported on Cloud-based DAG runner currently.\n",
      "WARNING:absl:RuntimeParameter is only supported on Cloud-based DAG runner currently.\n",
      "WARNING:absl:RuntimeParameter is only supported on Cloud-based DAG runner currently.\n",
      "WARNING:absl:RuntimeParameter is only supported on Cloud-based DAG runner currently.\n",
      "INFO:absl:PIPELINE_ROOT=gs://cloud-training-281409-kubeflowpipelines-default/tfx-titanic-training-2/{{workflow.uid}}\n",
      "INFO:absl:train_steps for training: 10000\n",
      "INFO:absl:tuner_steps for tuning: 2000\n",
      "INFO:absl:data_root_uri for training: gs://cloud-training-281409-kubeflowpipelines-default/tfx-template/data/titanic\n",
      "INFO:absl:eval_steps for evaluating: 1000\n",
      "INFO:absl:Excluding no splits because exclude_splits is not set.\n",
      "INFO:absl:Excluding no splits because exclude_splits is not set.\n",
      "WARNING:absl:`instance_name` is deprecated, please set node id directly using`with_id()` or `.id` setter.\n",
      "INFO:absl:Excluding no splits because exclude_splits is not set.\n",
      "WARNING:absl:`instance_name` is deprecated, please set node id directly using`with_id()` or `.id` setter.\n",
      "INFO:absl:tuner_args: {'module_file': 'model.py', 'examples': Channel(\n",
      "    type_name: Examples\n",
      "    artifacts: []\n",
      "), 'transform_graph': Channel(\n",
      "    type_name: TransformGraph\n",
      "    artifacts: []\n",
      "), 'train_args': {'num_steps': {\"__class__\": \"RuntimeParameter\", \"__module__\": \"tfx.orchestration.data_types\", \"__tfx_object_type__\": \"jsonable\", \"default\": 2000, \"description\": null, \"name\": \"tuner-steps\", \"ptype\": {\"__class__\": \"int\", \"__module__\": \"builtins\", \"__tfx_object_type__\": \"class\"}}}, 'eval_args': {'num_steps': {\"__class__\": \"RuntimeParameter\", \"__module__\": \"tfx.orchestration.data_types\", \"__tfx_object_type__\": \"jsonable\", \"default\": 1000, \"description\": null, \"name\": \"eval-steps\", \"ptype\": {\"__class__\": \"int\", \"__module__\": \"builtins\", \"__tfx_object_type__\": \"class\"}}}, 'custom_config': {'max_trials': 10}}\n",
      "WARNING:absl:`instance_name` is deprecated, please set node id directly using`with_id()` or `.id` setter.\n",
      "INFO:absl:Adding upstream dependencies for component CsvExampleGen\n",
      "INFO:absl:Adding upstream dependencies for component ImporterNode_import_user_schema\n",
      "INFO:absl:Adding upstream dependencies for component ResolverNode_latest_blessed_model_resolver\n",
      "INFO:absl:Adding upstream dependencies for component StatisticsGen\n",
      "INFO:absl:   ->  Component: CsvExampleGen\n",
      "INFO:absl:Adding upstream dependencies for component Transform\n",
      "INFO:absl:   ->  Component: CsvExampleGen\n",
      "INFO:absl:   ->  Component: ImporterNode_import_user_schema\n",
      "INFO:absl:Adding upstream dependencies for component ExampleValidator\n",
      "INFO:absl:   ->  Component: StatisticsGen\n",
      "INFO:absl:   ->  Component: ImporterNode_import_user_schema\n",
      "INFO:absl:Adding upstream dependencies for component SchemaGen\n",
      "INFO:absl:   ->  Component: StatisticsGen\n",
      "INFO:absl:Adding upstream dependencies for component Tuner\n",
      "INFO:absl:   ->  Component: Transform\n",
      "INFO:absl:Adding upstream dependencies for component Trainer\n",
      "INFO:absl:   ->  Component: Transform\n",
      "INFO:absl:   ->  Component: ImporterNode_import_user_schema\n",
      "INFO:absl:   ->  Component: Tuner\n",
      "INFO:absl:Adding upstream dependencies for component Evaluator\n",
      "INFO:absl:   ->  Component: CsvExampleGen\n",
      "INFO:absl:   ->  Component: Trainer\n",
      "INFO:absl:   ->  Component: ResolverNode_latest_blessed_model_resolver\n",
      "INFO:absl:Adding upstream dependencies for component InfraValidator\n",
      "INFO:absl:   ->  Component: CsvExampleGen\n",
      "INFO:absl:   ->  Component: Trainer\n",
      "INFO:absl:Adding upstream dependencies for component Pusher\n",
      "INFO:absl:   ->  Component: InfraValidator\n",
      "INFO:absl:   ->  Component: Trainer\n",
      "INFO:absl:   ->  Component: Evaluator\n",
      "Pipeline compiled successfully.\n",
      "Pipeline package path: /home/michal/PycharmProjects/ml-gcp-pipeline/tfx_titanic_pipeline/pipeline/tfx-titanic-training-2.tar.gz\n",
      "{'created_at': datetime.datetime(2021, 4, 29, 16, 32, 51, tzinfo=tzutc()),\n",
      " 'default_version': {'code_source_url': None,\n",
      "                     'created_at': datetime.datetime(2021, 4, 29, 16, 32, 51, tzinfo=tzutc()),\n",
      "                     'id': '9aa68432-8bf8-42db-a9ef-a42cb31948ee',\n",
      "                     'name': 'tfx-titanic-training-2',\n",
      "                     'package_url': None,\n",
      "                     'parameters': [{'name': 'pipeline-root',\n",
      "                                     'value': 'gs://cloud-training-281409-kubeflowpipelines-default/tfx-titanic-training-2/{{workflow.uid}}'},\n",
      "                                    {'name': 'data-root-uri',\n",
      "                                     'value': 'gs://cloud-training-281409-kubeflowpipelines-default/tfx-template/data/titanic'},\n",
      "                                    {'name': 'eval-steps', 'value': '1000'},\n",
      "                                    {'name': 'tuner-steps', 'value': '2000'},\n",
      "                                    {'name': 'train-steps', 'value': '10000'}],\n",
      "                     'resource_references': [{'key': {'id': '9aa68432-8bf8-42db-a9ef-a42cb31948ee',\n",
      "                                                      'type': 'PIPELINE'},\n",
      "                                              'name': None,\n",
      "                                              'relationship': 'OWNER'}]},\n",
      " 'description': None,\n",
      " 'error': None,\n",
      " 'id': '9aa68432-8bf8-42db-a9ef-a42cb31948ee',\n",
      " 'name': 'tfx-titanic-training-2',\n",
      " 'parameters': [{'name': 'pipeline-root',\n",
      "                 'value': 'gs://cloud-training-281409-kubeflowpipelines-default/tfx-titanic-training-2/{{workflow.uid}}'},\n",
      "                {'name': 'data-root-uri',\n",
      "                 'value': 'gs://cloud-training-281409-kubeflowpipelines-default/tfx-template/data/titanic'},\n",
      "                {'name': 'eval-steps', 'value': '1000'},\n",
      "                {'name': 'tuner-steps', 'value': '2000'},\n",
      "                {'name': 'train-steps', 'value': '10000'}],\n",
      " 'url': None}\n",
      "Please access the pipeline detail page at https://c281ee5ff79be53-dot-us-central1.pipelines.googleusercontent.com/#/pipelines/details/9aa68432-8bf8-42db-a9ef-a42cb31948ee\n",
      "Pipeline \"tfx-titanic-training-2\" created successfully.\n"
     ]
    }
   ],
   "source": [
    "!tfx pipeline create --pipeline_path=kubeflow_runner.py --endpoint={ENDPOINT} \\\n",
    "--build_target_image={CUSTOM_TFX_IMAGE}"
   ]
  },
  {
   "cell_type": "markdown",
   "metadata": {},
   "source": [
    "**Hint**: review the [TFX CLI documentation](https://www.tensorflow.org/tfx/guide/cli#create) on the \"pipeline group\" to create your pipeline. You will need to specify the `--pipeline_path` to point at the pipeline DSL and runner defined locally in `runner.py`, `--endpoint`, and `--build_target_image` arguments using the environment variables specified above."
   ]
  },
  {
   "cell_type": "markdown",
   "metadata": {},
   "source": [
    "Note: you should see a `build.yaml` file in your pipeline folder created by skaffold. The TFX CLI compile triggers a custom container to be built with skaffold using the instructions in the `Dockerfile`."
   ]
  },
  {
   "cell_type": "markdown",
   "metadata": {},
   "source": [
    "If you need to redeploy the pipeline you can first delete the previous version using `tfx pipeline delete` or you can update the pipeline in-place using `tfx pipeline update`.\n",
    "\n",
    "To delete the pipeline:\n",
    "\n",
    "`tfx pipeline delete --pipeline_name {PIPELINE_NAME} --endpoint {ENDPOINT}`\n",
    "\n",
    "To update the pipeline:\n",
    "\n",
    "`tfx pipeline update --pipeline_path runner.py --endpoint {ENDPOINT}`"
   ]
  },
  {
   "cell_type": "code",
   "execution_count": null,
   "metadata": {},
   "outputs": [],
   "source": [
    "!tfx pipeline delete --pipeline_name {PIPELINE_NAME} --endpoint {ENDPOINT}"
   ]
  },
  {
   "cell_type": "code",
   "execution_count": null,
   "metadata": {},
   "outputs": [],
   "source": [
    "!tfx pipeline update --pipeline_path kubeflow_runner.py --endpoint {ENDPOINT}"
   ]
  },
  {
   "cell_type": "markdown",
   "metadata": {},
   "source": [
    "### Create and monitor a pipeline run with the TFX CLI\n",
    "\n",
    "After the pipeline has been deployed, you can trigger and monitor pipeline runs using TFX CLI.\n",
    "\n",
    "*Hint*: review the [TFX CLI documentation](https://www.tensorflow.org/tfx/guide/cli#run_group) on the \"run group\"."
   ]
  },
  {
   "cell_type": "code",
   "execution_count": 68,
   "metadata": {},
   "outputs": [
    {
     "name": "stdout",
     "output_type": "stream",
     "text": [
      "2021-04-29 20:18:47.683079: I tensorflow/stream_executor/platform/default/dso_loader.cc:48] Successfully opened dynamic library libcudart.so.10.1\n",
      "CLI\n",
      "Creating a run for pipeline: tfx-titanic-training-2\n",
      "Detected Kubeflow.\n",
      "Use --engine flag if you intend to use a different orchestrator.\n",
      "Run created for pipeline: tfx-titanic-training-2\n",
      "+------------------------+--------------------------------------+----------+---------------------------+-----------------------------------------------------------------------------------------------------------------------------+\n",
      "| pipeline_name          | run_id                               | status   | created_at                | link                                                                                                                        |\n",
      "+========================+======================================+==========+===========================+=============================================================================================================================+\n",
      "| tfx-titanic-training-2 | 7a605b46-9aa6-4fef-9e55-5ceb71325c88 |          | 2021-04-29T18:18:51+00:00 | https://c281ee5ff79be53-dot-us-central1.pipelines.googleusercontent.com/#/runs/details/7a605b46-9aa6-4fef-9e55-5ceb71325c88 |\n",
      "+------------------------+--------------------------------------+----------+---------------------------+-----------------------------------------------------------------------------------------------------------------------------+\n"
     ]
    }
   ],
   "source": [
    "!tfx run create --pipeline_name={PIPELINE_NAME} --endpoint={ENDPOINT}"
   ]
  },
  {
   "cell_type": "markdown",
   "metadata": {},
   "source": [
    "To view the status of existing pipeline runs:"
   ]
  },
  {
   "cell_type": "code",
   "execution_count": null,
   "metadata": {},
   "outputs": [],
   "source": [
    "!tfx run list --pipeline_name {PIPELINE_NAME} --endpoint {ENDPOINT}"
   ]
  },
  {
   "cell_type": "markdown",
   "metadata": {},
   "source": [
    "To retrieve the status of a given run:"
   ]
  },
  {
   "cell_type": "code",
   "execution_count": null,
   "metadata": {},
   "outputs": [],
   "source": [
    "RUN_ID='[YOUR RUN ID]'\n",
    "\n",
    "!tfx run status --pipeline_name {PIPELINE_NAME} --run_id {RUN_ID} --endpoint {ENDPOINT}"
   ]
  },
  {
   "cell_type": "markdown",
   "metadata": {},
   "source": [
    "### Compile your pipeline code"
   ]
  },
  {
   "cell_type": "code",
   "execution_count": 19,
   "metadata": {},
   "outputs": [
    {
     "name": "stdout",
     "output_type": "stream",
     "text": [
      "CLI\n",
      "Compiling pipeline\n",
      "WARNING:absl:RuntimeParameter is only supported on Cloud-based DAG runner currently.\n",
      "WARNING:absl:RuntimeParameter is only supported on Cloud-based DAG runner currently.\n",
      "WARNING:absl:RuntimeParameter is only supported on Cloud-based DAG runner currently.\n",
      "WARNING:absl:RuntimeParameter is only supported on Cloud-based DAG runner currently.\n",
      "WARNING:absl:`instance_name` is deprecated, please set node id directly using`with_id()` or `.id` setter.\n",
      "WARNING:absl:`instance_name` is deprecated, please set node id directly using`with_id()` or `.id` setter.\n",
      "\u001b[0mPipeline compiled successfully.\n",
      "Pipeline package path: /home/jupyter/ml-gcp-pipeline/tfx_titanic_pipeline/pipeline/tfx-titanic-training.tar.gz\n"
     ]
    }
   ],
   "source": [
    "!tfx pipeline compile --engine kubeflow --pipeline_path runner.py"
   ]
  },
  {
   "cell_type": "markdown",
   "metadata": {},
   "source": [
    "### Deploy your pipeline container to AI Platform Pipelines with the TFX CLI"
   ]
  },
  {
   "cell_type": "code",
   "execution_count": null,
   "metadata": {},
   "outputs": [],
   "source": [
    "!tfx pipeline update --pipeline_path kubeflow_runner.py --endpoint {ENDPOINT}"
   ]
  },
  {
   "cell_type": "markdown",
   "metadata": {},
   "source": [
    "### Trigger a pipeline run from the Kubeflow Pipelines UI\n",
    "\n",
    "On the [AI Platform Pipelines](https://console.cloud.google.com/ai-platform/pipelines/clusters) page, click `OPEN PIPELINES DASHBOARD`. A new browser tab will open. Select the `Pipelines` tab to the left where you see the `PIPELINE_NAME` pipeline you deployed previously. You should see 2 pipeline versions. \n",
    "\n",
    "Click on the most recent pipeline version with tuning enabled which will open up a window with a graphical display of your TFX pipeline directed graph. \n",
    "\n",
    "Next, click the `Create a run` button. Verify the `Pipeline name` and `Pipeline version` are pre-populated and optionally provide a `Run name` and `Experiment` to logically group the run metadata under before hitting `Start` to trigger the pipeline run."
   ]
  },
  {
   "cell_type": "markdown",
   "metadata": {},
   "source": [
    "## Important\n",
    "\n",
    "A full pipeline run with tuning enabled will take about 50 minutes and can be executed in parallel while the previous pipeline run without tuning continues running. \n",
    "\n",
    "Take the time to review the pipeline metadata artifacts created in the GCS artifact repository for each component including data splits, your Tensorflow SavedModel, model evaluation results, etc. as the pipeline executes. In the GCP console, you can also view the Dataflow jobs for pipeline data processing as well as the AI Platform Training jobs for model training and tuning.\n",
    "\n",
    "When your pipelines runs are complete, review your model versions on Cloud AI Platform Prediction and model evaluation metrics. Did your model performance improve with hyperparameter tuning?"
   ]
  },
  {
   "cell_type": "markdown",
   "metadata": {},
   "source": [
    "## Next Steps"
   ]
  },
  {
   "cell_type": "markdown",
   "metadata": {},
   "source": [
    "In this lab, you learned how to build and deploy a TFX pipeline with the TFX CLI and then update, build and deploy a new pipeline with automatic hyperparameter tuning. You practiced triggered continuous pipeline runs using the TFX CLI as well as the Kubeflow Pipelines UI.\n",
    "\n",
    "\n",
    "In the next lab, you will construct a Cloud Build CI/CD workflow that further automates the building and deployment of the TensorFlow WideDeep Classifer pipeline code introduced in this lab."
   ]
  },
  {
   "cell_type": "markdown",
   "metadata": {},
   "source": [
    "## License"
   ]
  },
  {
   "cell_type": "markdown",
   "metadata": {},
   "source": [
    "<font size=-1>Licensed under the Apache License, Version 2.0 (the \\\"License\\\");\n",
    "you may not use this file except in compliance with the License.\n",
    "You may obtain a copy of the License at [https://www.apache.org/licenses/LICENSE-2.0](https://www.apache.org/licenses/LICENSE-2.0)\n",
    "\n",
    "Unless required by applicable law or agreed to in writing, software distributed under the License is distributed on an \\\"AS IS\\\" BASIS, WITHOUT WARRANTIES OR CONDITIONS OF ANY KIND, either express or implied.  See the License for the specific language governing permissions and limitations under the License.</font>"
   ]
  }
 ],
 "metadata": {
  "environment": {
   "name": "tf2-gpu.2-3.m65",
   "type": "gcloud",
   "uri": "gcr.io/deeplearning-platform-release/tf2-gpu.2-3:m65"
  },
  "kernelspec": {
   "display_name": "Python 3",
   "language": "python",
   "name": "python3"
  },
  "language_info": {
   "codemirror_mode": {
    "name": "ipython",
    "version": 3
   },
   "file_extension": ".py",
   "mimetype": "text/x-python",
   "name": "python",
   "nbconvert_exporter": "python",
   "pygments_lexer": "ipython3",
   "version": "3.8.5"
  }
 },
 "nbformat": 4,
 "nbformat_minor": 4
}
