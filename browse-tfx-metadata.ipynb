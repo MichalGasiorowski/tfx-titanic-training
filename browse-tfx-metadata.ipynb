{
 "cells": [
  {
   "cell_type": "code",
   "execution_count": 1,
   "id": "hundred-reducing",
   "metadata": {},
   "outputs": [],
   "source": [
    "%load_ext autoreload\n",
    "%autoreload 2"
   ]
  },
  {
   "cell_type": "code",
   "execution_count": 2,
   "id": "differential-agenda",
   "metadata": {},
   "outputs": [
    {
     "name": "stdout",
     "output_type": "stream",
     "text": [
      "['/home/michal/PycharmProjects/ml-gcp-pipeline/tfx_titanic_pipeline', '/usr/lib/python38.zip', '/usr/lib/python3.8', '/usr/lib/python3.8/lib-dynload', '', '/home/michal/venv/ML-3.8/lib/python3.8/site-packages', '/usr/local/lib/python3.8/dist-packages', '/usr/lib/python3/dist-packages', '/home/michal/venv/ML-3.8/lib/python3.8/site-packages/IPython/extensions', '/home/michal/.ipython']\n"
     ]
    }
   ],
   "source": [
    "import sys\n",
    "print(sys.path)"
   ]
  },
  {
   "cell_type": "markdown",
   "id": "hourly-aspect",
   "metadata": {},
   "source": [
    "### Setup"
   ]
  },
  {
   "cell_type": "markdown",
   "id": "republican-assault",
   "metadata": {},
   "source": [
    "#### Validate lab package version installation"
   ]
  },
  {
   "cell_type": "code",
   "execution_count": 4,
   "id": "american-hardwood",
   "metadata": {},
   "outputs": [
    {
     "name": "stdout",
     "output_type": "stream",
     "text": [
      "TFX version: 0.25.0\n",
      "KFP version: 1.0.4\n"
     ]
    }
   ],
   "source": [
    "!python -c \"import tfx; print('TFX version: {}'.format(tfx.__version__))\"\n",
    "!python -c \"import kfp; print('KFP version: {}'.format(kfp.__version__))\""
   ]
  },
  {
   "cell_type": "markdown",
   "id": "collected-diabetes",
   "metadata": {},
   "source": [
    "## Setup local path to data, train, test folders "
   ]
  },
  {
   "cell_type": "code",
   "execution_count": 6,
   "id": "trained-radar",
   "metadata": {},
   "outputs": [],
   "source": [
    "import os\n",
    "from pathlib import Path\n",
    "\n",
    "notebook_path=os.getcwd()\n",
    "local_data_dirpath = os.path.join(notebook_path, 'data')\n",
    "\n",
    "local_train_dirpath = os.path.join(local_data_dirpath, \"train\")\n",
    "local_train_filepath = os.path.join(local_train_dirpath, \"train.csv\")\n",
    "local_test_dirpath = os.path.join(local_data_dirpath, \"test\")\n",
    "local_test_filepath = os.path.join(local_test_dirpath, \"test.csv\")\n"
   ]
  },
  {
   "cell_type": "code",
   "execution_count": 28,
   "id": "crucial-particular",
   "metadata": {},
   "outputs": [
    {
     "name": "stdout",
     "output_type": "stream",
     "text": [
      "CsvExampleGen  ExampleValidator  Pusher     StatisticsGen  Trainer    Tuner\r\n",
      "Evaluator      InfraValidator\t SchemaGen  tfx_metadata   Transform\r\n"
     ]
    }
   ],
   "source": [
    "!ls '{notebook_path}/pipeline/tests/resources/20210425_225924'"
   ]
  },
  {
   "cell_type": "code",
   "execution_count": 29,
   "id": "foster-designation",
   "metadata": {},
   "outputs": [],
   "source": [
    "from ml_metadata import metadata_store\n",
    "from ml_metadata.proto import metadata_store_pb2\n",
    "\n",
    "import os\n",
    "import json\n",
    "\n",
    "import ml_metadata\n",
    "import tensorflow_data_validation as tfdv\n",
    "import tensorflow_model_analysis as tfma\n",
    "\n",
    "\n",
    "from ml_metadata.metadata_store import metadata_store\n",
    "from ml_metadata.proto import metadata_store_pb2\n",
    "\n",
    "from tfx.orchestration import metadata\n",
    "from tfx.types import standard_artifacts\n",
    "\n",
    "from tensorflow.python.lib.io import file_io\n",
    "\n",
    "\n",
    "#connection_config = metadata_store_pb2.ConnectionConfig()\n",
    "#connection_config.fake_database.SetInParent() # Sets an empty fake database proto.\n",
    "\n",
    "# path to metadata.db\n",
    "#METADATA_STORE = '/home/michal/artifact-store/tfx-titanic-training/20210416_133756/tfx_metadata/tfx-titanic-training/metadata.db'\n",
    "\n",
    "METADATA_STORE = f'{notebook_path}/pipeline/tests/resources/20210425_225924/tfx_metadata/tfx-titanic-training/metadata.db'\n",
    "\n",
    "metadata_connection_config=metadata.sqlite_metadata_connection_config(METADATA_STORE)\n",
    "\n",
    "store = metadata_store.MetadataStore(metadata_connection_config)"
   ]
  },
  {
   "cell_type": "markdown",
   "id": "religious-position",
   "metadata": {},
   "source": [
    "Set enviorment variables"
   ]
  },
  {
   "cell_type": "code",
   "execution_count": 9,
   "id": "wireless-payroll",
   "metadata": {},
   "outputs": [
    {
     "name": "stdout",
     "output_type": "stream",
     "text": [
      "/home/michal/PycharmProjects/ml-gcp-pipeline/tfx_titanic_pipeline/pipeline\n"
     ]
    }
   ],
   "source": [
    "%cd {notebook_path}/pipeline"
   ]
  },
  {
   "cell_type": "markdown",
   "id": "geographic-construction",
   "metadata": {},
   "source": [
    "List the registered artifact types."
   ]
  },
  {
   "cell_type": "code",
   "execution_count": 30,
   "id": "bibliographic-double",
   "metadata": {},
   "outputs": [
    {
     "name": "stdout",
     "output_type": "stream",
     "text": [
      "Examples\n",
      "Schema\n",
      "ExampleStatistics\n",
      "TransformGraph\n",
      "TransformCache\n",
      "ExampleAnomalies\n",
      "HyperParameters\n",
      "Model\n",
      "ModelRun\n",
      "ModelEvaluation\n",
      "ModelBlessing\n",
      "InfraBlessing\n",
      "PushedModel\n"
     ]
    }
   ],
   "source": [
    "for artifact_type in store.get_artifact_types():\n",
    "    print(artifact_type.name)"
   ]
  },
  {
   "cell_type": "markdown",
   "id": "knowing-trigger",
   "metadata": {},
   "source": [
    "Display the registered execution types."
   ]
  },
  {
   "cell_type": "code",
   "execution_count": 32,
   "id": "racial-dependence",
   "metadata": {},
   "outputs": [
    {
     "name": "stdout",
     "output_type": "stream",
     "text": [
      "tfx.components.example_gen.csv_example_gen.component.CsvExampleGen\n",
      "tfx.components.common_nodes.importer_node.ImporterNode\n",
      "tfx.components.common_nodes.resolver_node.ResolverNode\n",
      "tfx.components.statistics_gen.component.StatisticsGen\n",
      "tfx.components.transform.component.Transform\n",
      "tfx.components.example_validator.component.ExampleValidator\n",
      "tfx.components.schema_gen.component.SchemaGen\n",
      "tfx.components.tuner.component.Tuner\n",
      "tfx.components.trainer.component.Trainer\n",
      "tfx.components.evaluator.component.Evaluator\n",
      "tfx.components.infra_validator.component.InfraValidator\n",
      "tfx.components.pusher.component.Pusher\n"
     ]
    }
   ],
   "source": [
    "for execution_type in store.get_execution_types():\n",
    "    print(execution_type.name)"
   ]
  },
  {
   "cell_type": "markdown",
   "id": "floppy-geneva",
   "metadata": {},
   "source": [
    "List the registered context types."
   ]
  },
  {
   "cell_type": "code",
   "execution_count": 33,
   "id": "applied-school",
   "metadata": {},
   "outputs": [
    {
     "name": "stdout",
     "output_type": "stream",
     "text": [
      "pipeline\n",
      "run\n",
      "component_run\n"
     ]
    }
   ],
   "source": [
    "for context_type in store.get_context_types():\n",
    "    print(context_type.name)"
   ]
  },
  {
   "cell_type": "markdown",
   "id": "flying-reward",
   "metadata": {},
   "source": [
    "## Visualizing TFX artifacts"
   ]
  },
  {
   "cell_type": "markdown",
   "id": "historical-terminology",
   "metadata": {},
   "source": [
    "### Retrieve data analysis and validation artifacts\n"
   ]
  },
  {
   "cell_type": "code",
   "execution_count": 34,
   "id": "numerical-right",
   "metadata": {},
   "outputs": [],
   "source": [
    "with metadata.Metadata(metadata_connection_config) as store:\n",
    "    schema_artifacts = store.get_artifacts_by_type(standard_artifacts.Schema.TYPE_NAME)    \n",
    "    stats_artifacts = store.get_artifacts_by_type(standard_artifacts.ExampleStatistics.TYPE_NAME)\n",
    "    anomalies_artifacts = store.get_artifacts_by_type(standard_artifacts.ExampleAnomalies.TYPE_NAME)"
   ]
  },
  {
   "cell_type": "code",
   "execution_count": 35,
   "id": "suburban-spider",
   "metadata": {},
   "outputs": [
    {
     "name": "stdout",
     "output_type": "stream",
     "text": [
      "Generated schame file:/home/michal/artifact-store/tfx-titanic-training/20210425_225924/SchemaGen/schema/7/schema.pbtxt\n",
      "Train stats file:/home/michal/artifact-store/tfx-titanic-training/20210425_225924/StatisticsGen/statistics/4/train/stats_tfrecord, Eval stats file:/home/michal/artifact-store/tfx-titanic-training/20210425_225924/StatisticsGen/statistics/4/eval/stats_tfrecord\n",
      "Train anomalies file:/home/michal/artifact-store/tfx-titanic-training/20210425_225924/ExampleValidator/anomalies/6/train/anomalies.pbtxt, Eval anomalies file:/home/michal/artifact-store/tfx-titanic-training/20210425_225924/ExampleValidator/anomalies/6/eval/anomalies.pbtxt\n"
     ]
    }
   ],
   "source": [
    "schema_file = os.path.join(schema_artifacts[-1].uri, 'schema.pbtxt')\n",
    "print(\"Generated schame file:{}\".format(schema_file))\n",
    "\n",
    "stats_path = stats_artifacts[-1].uri\n",
    "train_stats_file = os.path.join(stats_path, 'train', 'stats_tfrecord')\n",
    "eval_stats_file = os.path.join(stats_path, 'eval', 'stats_tfrecord')\n",
    "print(\"Train stats file:{}, Eval stats file:{}\".format(\n",
    "    train_stats_file, eval_stats_file))\n",
    "\n",
    "anomalies_path = anomalies_artifacts[-1].uri\n",
    "train_anomalies_file = os.path.join(anomalies_path, 'train', 'anomalies.pbtxt')\n",
    "eval_anomalies_file = os.path.join(anomalies_path, 'eval', 'anomalies.pbtxt')\n",
    "\n",
    "print(\"Train anomalies file:{}, Eval anomalies file:{}\".format(\n",
    "    train_anomalies_file, eval_anomalies_file))"
   ]
  },
  {
   "cell_type": "markdown",
   "id": "available-ladder",
   "metadata": {},
   "source": [
    "### Visualize schema"
   ]
  },
  {
   "cell_type": "code",
   "execution_count": 36,
   "id": "average-driver",
   "metadata": {},
   "outputs": [
    {
     "data": {
      "text/html": [
       "<div>\n",
       "<style scoped>\n",
       "    .dataframe tbody tr th:only-of-type {\n",
       "        vertical-align: middle;\n",
       "    }\n",
       "\n",
       "    .dataframe tbody tr th {\n",
       "        vertical-align: top;\n",
       "    }\n",
       "\n",
       "    .dataframe thead th {\n",
       "        text-align: right;\n",
       "    }\n",
       "</style>\n",
       "<table border=\"1\" class=\"dataframe\">\n",
       "  <thead>\n",
       "    <tr style=\"text-align: right;\">\n",
       "      <th></th>\n",
       "      <th>Type</th>\n",
       "      <th>Presence</th>\n",
       "      <th>Valency</th>\n",
       "      <th>Domain</th>\n",
       "    </tr>\n",
       "    <tr>\n",
       "      <th>Feature name</th>\n",
       "      <th></th>\n",
       "      <th></th>\n",
       "      <th></th>\n",
       "      <th></th>\n",
       "    </tr>\n",
       "  </thead>\n",
       "  <tbody>\n",
       "    <tr>\n",
       "      <th>'Embarked'</th>\n",
       "      <td>STRING</td>\n",
       "      <td>required</td>\n",
       "      <td></td>\n",
       "      <td>'Embarked'</td>\n",
       "    </tr>\n",
       "    <tr>\n",
       "      <th>'Name'</th>\n",
       "      <td>BYTES</td>\n",
       "      <td>required</td>\n",
       "      <td>single</td>\n",
       "      <td>-</td>\n",
       "    </tr>\n",
       "    <tr>\n",
       "      <th>'Sex'</th>\n",
       "      <td>STRING</td>\n",
       "      <td>required</td>\n",
       "      <td>single</td>\n",
       "      <td>'Sex'</td>\n",
       "    </tr>\n",
       "    <tr>\n",
       "      <th>'Ticket'</th>\n",
       "      <td>BYTES</td>\n",
       "      <td>required</td>\n",
       "      <td>single</td>\n",
       "      <td>-</td>\n",
       "    </tr>\n",
       "    <tr>\n",
       "      <th>'Cabin'</th>\n",
       "      <td>BYTES</td>\n",
       "      <td>required</td>\n",
       "      <td></td>\n",
       "      <td>-</td>\n",
       "    </tr>\n",
       "    <tr>\n",
       "      <th>'Age'</th>\n",
       "      <td>FLOAT</td>\n",
       "      <td>required</td>\n",
       "      <td></td>\n",
       "      <td>-</td>\n",
       "    </tr>\n",
       "    <tr>\n",
       "      <th>'Fare'</th>\n",
       "      <td>FLOAT</td>\n",
       "      <td>required</td>\n",
       "      <td>single</td>\n",
       "      <td>-</td>\n",
       "    </tr>\n",
       "    <tr>\n",
       "      <th>'Parch'</th>\n",
       "      <td>INT</td>\n",
       "      <td>required</td>\n",
       "      <td>single</td>\n",
       "      <td>-</td>\n",
       "    </tr>\n",
       "    <tr>\n",
       "      <th>'PassengerId'</th>\n",
       "      <td>INT</td>\n",
       "      <td>required</td>\n",
       "      <td>single</td>\n",
       "      <td>-</td>\n",
       "    </tr>\n",
       "    <tr>\n",
       "      <th>'Pclass'</th>\n",
       "      <td>INT</td>\n",
       "      <td>required</td>\n",
       "      <td>single</td>\n",
       "      <td>-</td>\n",
       "    </tr>\n",
       "    <tr>\n",
       "      <th>'SibSp'</th>\n",
       "      <td>INT</td>\n",
       "      <td>required</td>\n",
       "      <td>single</td>\n",
       "      <td>-</td>\n",
       "    </tr>\n",
       "    <tr>\n",
       "      <th>'Survived'</th>\n",
       "      <td>INT</td>\n",
       "      <td>required</td>\n",
       "      <td>single</td>\n",
       "      <td>-</td>\n",
       "    </tr>\n",
       "  </tbody>\n",
       "</table>\n",
       "</div>"
      ],
      "text/plain": [
       "                 Type  Presence Valency      Domain\n",
       "Feature name                                       \n",
       "'Embarked'     STRING  required          'Embarked'\n",
       "'Name'         BYTES   required  single  -         \n",
       "'Sex'          STRING  required  single  'Sex'     \n",
       "'Ticket'       BYTES   required  single  -         \n",
       "'Cabin'        BYTES   required          -         \n",
       "'Age'          FLOAT   required          -         \n",
       "'Fare'         FLOAT   required  single  -         \n",
       "'Parch'        INT     required  single  -         \n",
       "'PassengerId'  INT     required  single  -         \n",
       "'Pclass'       INT     required  single  -         \n",
       "'SibSp'        INT     required  single  -         \n",
       "'Survived'     INT     required  single  -         "
      ]
     },
     "metadata": {},
     "output_type": "display_data"
    },
    {
     "name": "stderr",
     "output_type": "stream",
     "text": [
      "/home/michal/venv/ML-3.8/lib/python3.8/site-packages/tensorflow_data_validation/utils/display_util.py:151: FutureWarning: Passing a negative integer is deprecated in version 1.0 and will not be supported in future version. Instead, use None to not limit the column width.\n",
      "  pd.set_option('max_colwidth', -1)\n"
     ]
    },
    {
     "data": {
      "text/html": [
       "<div>\n",
       "<style scoped>\n",
       "    .dataframe tbody tr th:only-of-type {\n",
       "        vertical-align: middle;\n",
       "    }\n",
       "\n",
       "    .dataframe tbody tr th {\n",
       "        vertical-align: top;\n",
       "    }\n",
       "\n",
       "    .dataframe thead th {\n",
       "        text-align: right;\n",
       "    }\n",
       "</style>\n",
       "<table border=\"1\" class=\"dataframe\">\n",
       "  <thead>\n",
       "    <tr style=\"text-align: right;\">\n",
       "      <th></th>\n",
       "      <th>Values</th>\n",
       "    </tr>\n",
       "    <tr>\n",
       "      <th>Domain</th>\n",
       "      <th></th>\n",
       "    </tr>\n",
       "  </thead>\n",
       "  <tbody>\n",
       "    <tr>\n",
       "      <th>'Embarked'</th>\n",
       "      <td>'C', 'Q', 'S'</td>\n",
       "    </tr>\n",
       "    <tr>\n",
       "      <th>'Sex'</th>\n",
       "      <td>'female', 'male'</td>\n",
       "    </tr>\n",
       "  </tbody>\n",
       "</table>\n",
       "</div>"
      ],
      "text/plain": [
       "                      Values\n",
       "Domain                      \n",
       "'Embarked'  'C', 'Q', 'S'   \n",
       "'Sex'       'female', 'male'"
      ]
     },
     "metadata": {},
     "output_type": "display_data"
    }
   ],
   "source": [
    "schema = tfdv.load_schema_text(schema_file)\n",
    "tfdv.display_schema(schema=schema)"
   ]
  },
  {
   "cell_type": "markdown",
   "id": "solar-aggregate",
   "metadata": {},
   "source": [
    "Visualize statistics\n"
   ]
  },
  {
   "cell_type": "code",
   "execution_count": 37,
   "id": "closed-rachel",
   "metadata": {},
   "outputs": [
    {
     "data": {
      "text/html": [
       "<iframe id='facets-iframe' width=\"100%\" height=\"500px\"></iframe>\n",
       "        <script>\n",
       "        facets_iframe = document.getElementById('facets-iframe');\n",
       "        facets_html = '<script src=\"https://cdnjs.cloudflare.com/ajax/libs/webcomponentsjs/1.3.3/webcomponents-lite.js\"><\\/script><link rel=\"import\" href=\"https://raw.githubusercontent.com/PAIR-code/facets/master/facets-dist/facets-jupyter.html\"><facets-overview proto-input=\"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\"></facets-overview>';\n",
       "        facets_iframe.srcdoc = facets_html;\n",
       "         facets_iframe.id = \"\";\n",
       "         setTimeout(() => {\n",
       "           facets_iframe.setAttribute('height', facets_iframe.contentWindow.document.body.offsetHeight + 'px')\n",
       "         }, 1500)\n",
       "         </script>"
      ],
      "text/plain": [
       "<IPython.core.display.HTML object>"
      ]
     },
     "metadata": {},
     "output_type": "display_data"
    }
   ],
   "source": [
    "train_stats = tfdv.load_statistics(train_stats_file)\n",
    "eval_stats = tfdv.load_statistics(eval_stats_file)\n",
    "tfdv.visualize_statistics(lhs_statistics=eval_stats, rhs_statistics=train_stats,\n",
    "                          lhs_name='EVAL_DATASET', rhs_name='TRAIN_DATASET')"
   ]
  },
  {
   "cell_type": "markdown",
   "id": "actual-church",
   "metadata": {},
   "source": [
    "Visualize anomalies"
   ]
  },
  {
   "cell_type": "code",
   "execution_count": 38,
   "id": "peripheral-chance",
   "metadata": {},
   "outputs": [
    {
     "data": {
      "text/html": [
       "<h4 style=\"color:green;\">No anomalies found.</h4>"
      ],
      "text/plain": [
       "<IPython.core.display.HTML object>"
      ]
     },
     "metadata": {},
     "output_type": "display_data"
    }
   ],
   "source": [
    "train_anomalies = tfdv.load_anomalies_text(train_anomalies_file)\n",
    "tfdv.display_anomalies(train_anomalies)"
   ]
  },
  {
   "cell_type": "code",
   "execution_count": 39,
   "id": "liquid-drama",
   "metadata": {},
   "outputs": [
    {
     "data": {
      "text/html": [
       "<h4 style=\"color:green;\">No anomalies found.</h4>"
      ],
      "text/plain": [
       "<IPython.core.display.HTML object>"
      ]
     },
     "metadata": {},
     "output_type": "display_data"
    }
   ],
   "source": [
    "eval_anomalies = tfdv.load_anomalies_text(eval_anomalies_file)\n",
    "tfdv.display_anomalies(eval_anomalies)"
   ]
  },
  {
   "cell_type": "markdown",
   "id": "periodic-appearance",
   "metadata": {},
   "source": [
    "Retrieve model artifacts"
   ]
  },
  {
   "cell_type": "code",
   "execution_count": 40,
   "id": "afraid-validity",
   "metadata": {},
   "outputs": [
    {
     "name": "stdout",
     "output_type": "stream",
     "text": [
      "Generated model evaluation result:/home/michal/artifact-store/tfx-titanic-training/20210425_225924/Evaluator/evaluation/10\n",
      "Generated model best hyperparameters result:/home/michal/artifact-store/tfx-titanic-training/20210425_225924/Tuner/best_hyperparameters/8/best_hyperparameters.txt\n"
     ]
    }
   ],
   "source": [
    "with metadata.Metadata(metadata_connection_config) as store:\n",
    "    model_eval_artifacts = store.get_artifacts_by_type(standard_artifacts.ModelEvaluation.TYPE_NAME)\n",
    "    hyperparam_artifacts = store.get_artifacts_by_type(standard_artifacts.HyperParameters.TYPE_NAME)\n",
    "    \n",
    "model_eval_path = model_eval_artifacts[-1].uri\n",
    "print(\"Generated model evaluation result:{}\".format(model_eval_path))\n",
    "best_hparams_path = os.path.join(hyperparam_artifacts[-1].uri, 'best_hyperparameters.txt')\n",
    "print(\"Generated model best hyperparameters result:{}\".format(best_hparams_path))"
   ]
  },
  {
   "cell_type": "markdown",
   "id": "impossible-tennis",
   "metadata": {},
   "source": [
    "### Return best hyperparameters"
   ]
  },
  {
   "cell_type": "code",
   "execution_count": 41,
   "id": "leading-drive",
   "metadata": {},
   "outputs": [
    {
     "data": {
      "text/plain": [
       "[{'class_name': 'Float',\n",
       "  'config': {'name': 'learning_rate',\n",
       "   'default': 0.0009167702421017742,\n",
       "   'conditions': [],\n",
       "   'min_value': 0.0001,\n",
       "   'max_value': 0.01,\n",
       "   'step': None,\n",
       "   'sampling': 'log'}},\n",
       " {'class_name': 'Int',\n",
       "  'config': {'name': 'n_layers',\n",
       "   'default': 2,\n",
       "   'conditions': [],\n",
       "   'min_value': 1,\n",
       "   'max_value': 2,\n",
       "   'step': 1,\n",
       "   'sampling': None}},\n",
       " {'class_name': 'Int',\n",
       "  'config': {'name': 'n_units_1',\n",
       "   'default': 72,\n",
       "   'conditions': [{'class_name': 'Parent',\n",
       "     'config': {'name': 'n_layers', 'values': [1]}}],\n",
       "   'min_value': 8,\n",
       "   'max_value': 128,\n",
       "   'step': 8,\n",
       "   'sampling': None}},\n",
       " {'class_name': 'Int',\n",
       "  'config': {'name': 'n_units_1',\n",
       "   'default': 128,\n",
       "   'conditions': [{'class_name': 'Parent',\n",
       "     'config': {'name': 'n_layers', 'values': [2]}}],\n",
       "   'min_value': 8,\n",
       "   'max_value': 128,\n",
       "   'step': 8,\n",
       "   'sampling': None}},\n",
       " {'class_name': 'Int',\n",
       "  'config': {'name': 'n_units_2',\n",
       "   'default': 80,\n",
       "   'conditions': [{'class_name': 'Parent',\n",
       "     'config': {'name': 'n_layers', 'values': [2]}}],\n",
       "   'min_value': 8,\n",
       "   'max_value': 128,\n",
       "   'step': 8,\n",
       "   'sampling': None}}]"
      ]
     },
     "execution_count": 41,
     "metadata": {},
     "output_type": "execute_result"
    }
   ],
   "source": [
    "# Latest pipeline run Tuner search space.\n",
    "json.loads(file_io.read_file_to_string(best_hparams_path))['space']"
   ]
  },
  {
   "cell_type": "code",
   "execution_count": 42,
   "id": "nonprofit-bread",
   "metadata": {},
   "outputs": [
    {
     "data": {
      "text/plain": [
       "{'learning_rate': 0.0014421563688159582, 'n_layers': 1, 'n_units_1': 32}"
      ]
     },
     "execution_count": 42,
     "metadata": {},
     "output_type": "execute_result"
    }
   ],
   "source": [
    "# Latest pipeline run Tuner searched best_hyperparameters artifacts.\n",
    "json.loads(file_io.read_file_to_string(best_hparams_path))['values']"
   ]
  },
  {
   "cell_type": "markdown",
   "id": "three-stocks",
   "metadata": {},
   "source": [
    "### Visualize model evaluations"
   ]
  },
  {
   "cell_type": "code",
   "execution_count": 46,
   "id": "entertaining-passage",
   "metadata": {},
   "outputs": [
    {
     "data": {
      "application/vnd.jupyter.widget-view+json": {
       "model_id": "655bd609474e44e28c3830bc22cb0fa7",
       "version_major": 2,
       "version_minor": 0
      },
      "text/plain": [
       "SlicingMetricsViewer(config={'weightedExamplesColumn': 'example_count'}, data=[{'slice': 'Sex:female', 'metric…"
      ]
     },
     "metadata": {},
     "output_type": "display_data"
    }
   ],
   "source": [
    "eval_result = tfma.load_eval_result(model_eval_path)\n",
    "tfma.view.render_slicing_metrics(\n",
    "    eval_result, slicing_column='Sex')"
   ]
  },
  {
   "cell_type": "code",
   "execution_count": null,
   "id": "sitting-valley",
   "metadata": {},
   "outputs": [],
   "source": []
  }
 ],
 "metadata": {
  "kernelspec": {
   "display_name": "Python 3",
   "language": "python",
   "name": "python3"
  },
  "language_info": {
   "codemirror_mode": {
    "name": "ipython",
    "version": 3
   },
   "file_extension": ".py",
   "mimetype": "text/x-python",
   "name": "python",
   "nbconvert_exporter": "python",
   "pygments_lexer": "ipython3",
   "version": "3.8.5"
  }
 },
 "nbformat": 4,
 "nbformat_minor": 5
}
